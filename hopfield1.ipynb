{
 "cells": [
  {
   "cell_type": "code",
   "execution_count": 2,
   "metadata": {},
   "outputs": [
    {
     "name": "stdout",
     "output_type": "stream",
     "text": [
      "Intel MKL WARNING: Support of Intel(R) Streaming SIMD Extensions 4.2 (Intel(R) SSE4.2) enabled only processors has been deprecated. Intel oneAPI Math Kernel Library 2025.0 will require Intel(R) Advanced Vector Extensions (Intel(R) AVX) instructions.\n",
      "Intel MKL WARNING: Support of Intel(R) Streaming SIMD Extensions 4.2 (Intel(R) SSE4.2) enabled only processors has been deprecated. Intel oneAPI Math Kernel Library 2025.0 will require Intel(R) Advanced Vector Extensions (Intel(R) AVX) instructions.\n"
     ]
    }
   ],
   "source": [
    "import numpy as np\n",
    "import seaborn as sns\n",
    "import matplotlib.pyplot as plt"
   ]
  },
  {
   "cell_type": "code",
   "execution_count": 3,
   "metadata": {},
   "outputs": [],
   "source": [
    "def train_hopfield(N,v):\n",
    "    W = np.zeros((N,N))\n",
    "    for i in range(0,N-1):\n",
    "        for j in range(i+1,N):\n",
    "            W[i,j] = v[i]*v[j]\n",
    "    W = W+ np.transpose(W)\n",
    "    return W\n",
    "\n",
    "def run_hopfield(W,v0,steps,threshold=None):\n",
    "    N = np.shape(W)[0]\n",
    "    if threshold is None:\n",
    "        threshold = np.zeros(N)\n",
    "    sequence =np.zeros((steps,N),dtype=int)\n",
    "    sequence[0,:] = v0\n",
    "    for step in range(0,steps-1):\n",
    "        neuron = np.random.randint(N)\n",
    "        prod = sequence[step,:]@W\n",
    "        sequence[step+1,:] = sequence[step,:]\n",
    "        if prod[neuron]>=threshold[neuron]:\n",
    "            sequence[step+1,neuron] = int(1)\n",
    "        else:\n",
    "            sequence[step+1,neuron] = int(-1)\n",
    "    return sequence"
   ]
  },
  {
   "cell_type": "code",
   "execution_count": 3,
   "metadata": {},
   "outputs": [
    {
     "name": "stdout",
     "output_type": "stream",
     "text": [
      "[ 1 -1  1 -1 -1  1 -1  1 -1 -1 -1 -1]\n",
      "[-1 -1 -1 -1 -1 -1 -1  1 -1 -1 -1 -1]\n"
     ]
    }
   ],
   "source": [
    "N=12\n",
    "random_memory = 2*np.random.randint(2, size=N)-1\n",
    "print(random_memory)\n",
    "W = train_hopfield(N,random_memory)\n",
    "random_IC = random_memory\n",
    "random_IC[0]=-random_memory[0]\n",
    "random_IC[5]=-random_memory[5]\n",
    "random_IC[2]=-random_memory[2]\n",
    "print(random_IC)\n",
    "states = run_hopfield(W,random_IC,100)"
   ]
  },
  {
   "cell_type": "code",
   "execution_count": 4,
   "metadata": {},
   "outputs": [
    {
     "name": "stdout",
     "output_type": "stream",
     "text": [
      "[[-1 -1 -1 ... -1 -1 -1]\n",
      " [-1 -1 -1 ... -1 -1 -1]\n",
      " [-1 -1 -1 ... -1 -1 -1]\n",
      " ...\n",
      " [ 1 -1  1 ... -1 -1 -1]\n",
      " [ 1 -1  1 ... -1 -1 -1]\n",
      " [ 1 -1  1 ... -1 -1 -1]]\n"
     ]
    }
   ],
   "source": [
    "print(states)"
   ]
  },
  {
   "cell_type": "code",
   "execution_count": 5,
   "metadata": {},
   "outputs": [
    {
     "data": {
      "text/plain": [
       "array([ 1, -1,  1, -1, -1,  1, -1,  1, -1, -1, -1, -1])"
      ]
     },
     "execution_count": 5,
     "metadata": {},
     "output_type": "execute_result"
    }
   ],
   "source": [
    "states[len(states)-1,:]"
   ]
  },
  {
   "cell_type": "markdown",
   "metadata": {},
   "source": [
    "# Visualising hopfield memories"
   ]
  },
  {
   "cell_type": "markdown",
   "metadata": {},
   "source": [
    "Create a memory in a 5 X 5 grid"
   ]
  },
  {
   "cell_type": "code",
   "execution_count": 4,
   "metadata": {},
   "outputs": [
    {
     "data": {
      "image/png": "[encoded data removed]",
      "text/plain": [
       "<Figure size 400x400 with 1 Axes>"
      ]
     },
     "metadata": {},
     "output_type": "display_data"
    }
   ],
   "source": [
    "N = 5*5\n",
    "memory = np.array([\n",
    "    [0, 0, 1, 0, 0],\n",
    "    [0, 0, 1, 0, 0],\n",
    "    [1, 1, 1, 1, 1],\n",
    "    [0, 0, 1, 0, 0],\n",
    "    [0, 0, 1, 0, 0]\n",
    "])\n",
    "fig, ax = plt.subplots(1,1)\n",
    "fig.set_size_inches(4,4)\n",
    "sns.heatmap(memory,cmap='magma',cbar=False,ax=ax,vmin=-0.1,vmax=1.1,linewidths=1, linecolor='white')\n",
    "plt.tight_layout()\n",
    "plt.axis('off')\n",
    "plt.show()\n",
    "fig.savefig('cross.pdf', format=\"pdf\", bbox_inches=\"tight\")\n"
   ]
  },
  {
   "cell_type": "code",
   "execution_count": 5,
   "metadata": {},
   "outputs": [],
   "source": [
    "memory = 2*memory-1\n",
    "W = train_hopfield(N,memory.flatten())"
   ]
  },
  {
   "cell_type": "code",
   "execution_count": 49,
   "metadata": {},
   "outputs": [
    {
     "data": {
      "image/png": "[encoded data removed]",
      "text/plain": [
       "<Figure size 400x400 with 1 Axes>"
      ]
     },
     "metadata": {},
     "output_type": "display_data"
    }
   ],
   "source": [
    "M = 5\n",
    "N = M*M\n",
    "IC = np.array([\n",
    "    [1, 1, 0, 0, 1],\n",
    "    [0, 0, 1, 0, 1],\n",
    "    [1, 0, 1, 1, 0],\n",
    "    [0, 1, 1, 0, 1],\n",
    "    [1, 1, 0, 0, 1]\n",
    "])\n",
    "fig, ax = plt.subplots(1,1)\n",
    "fig.set_size_inches(4,4)\n",
    "sns.heatmap(IC,cmap='magma',cbar=False,ax=ax,vmin=-0.1,vmax=1.1,linewidths=1, linecolor='white')\n",
    "plt.tight_layout()\n",
    "plt.axis('off')\n",
    "plt.show()\n",
    "IC = 2*IC-1\n",
    "states = run_hopfield(W,IC.flatten(),10000)"
   ]
  },
  {
   "cell_type": "code",
   "execution_count": 50,
   "metadata": {},
   "outputs": [
    {
     "data": {
      "image/png": "[encoded data removed]",
      "text/plain": [
       "<Figure size 400x400 with 1 Axes>"
      ]
     },
     "metadata": {},
     "output_type": "display_data"
    }
   ],
   "source": [
    "show_state = (states[9999].reshape(5,5)+1)/2\n",
    "fig, ax = plt.subplots(1,1)\n",
    "fig.set_size_inches(4,4)\n",
    "sns.heatmap(show_state,cmap='magma',cbar=False,ax=ax,vmin=-0.1,vmax=1.1,linewidths=1, linecolor='white')\n",
    "plt.tight_layout()\n",
    "plt.axis('off')\n",
    "plt.show()\n"
   ]
  },
  {
   "cell_type": "code",
   "execution_count": 51,
   "metadata": {},
   "outputs": [
    {
     "data": {
      "image/png": "[encoded data removed]",
      "text/plain": [
       "<Figure size 2000x450 with 5 Axes>"
      ]
     },
     "metadata": {},
     "output_type": "display_data"
    }
   ],
   "source": [
    "sns.set(font_scale=2)\n",
    "fig, ax = plt.subplots(1,5)\n",
    "fig.set_size_inches(20,4.5)\n",
    "seq =[0,2000,4000,6000,8000]\n",
    "for i in range(0,5):\n",
    "    show_state = (states[seq[i]].reshape(5,5)+1)/2\n",
    "    sns.heatmap(show_state,cmap='magma',cbar=False,ax=ax[i],vmin=-0.1,vmax=1.1,linewidths=1, linecolor='white')\n",
    "    ax[i].axis('off')\n",
    "    ax[i].set_title(r'$t=$'+str(seq[i]))\n",
    "ax[0].axis('on')\n",
    "ax[0].set_xticklabels([])\n",
    "ax[0].set_yticklabels([])\n",
    "ax[0].set_ylabel('Deterministic')\n",
    "plt.tight_layout()\n",
    "plt.show()\n",
    "fig.savefig('cross_diverge_2.pdf', format=\"pdf\", bbox_inches=\"tight\")"
   ]
  },
  {
   "cell_type": "code",
   "execution_count": 39,
   "metadata": {},
   "outputs": [
    {
     "data": {
      "text/plain": [
       "array([ 1,  1, -1, -1,  1, -1, -1, -1, -1,  1,  1, -1,  1,  1, -1, -1,  1,\n",
       "        1, -1,  1,  1,  1, -1, -1,  1])"
      ]
     },
     "execution_count": 39,
     "metadata": {},
     "output_type": "execute_result"
    }
   ],
   "source": [
    "states[0]"
   ]
  },
  {
   "cell_type": "code",
   "execution_count": 59,
   "metadata": {},
   "outputs": [],
   "source": [
    "def energy(states,W):\n",
    "    N = W.shape[0]\n",
    "    L = len(states)\n",
    "    energy =[]\n",
    "    for s in range(0,L):\n",
    "        E=0 \n",
    "        for i in range(0,N):\n",
    "            for j in range(0,N):\n",
    "                E += -0.5*(W[i,j]*states[s,i]*states[s,j])\n",
    "        energy.append(E)\n",
    "    return(energy)"
   ]
  },
  {
   "cell_type": "code",
   "execution_count": 60,
   "metadata": {},
   "outputs": [],
   "source": [
    "E = energy(states,W)"
   ]
  },
  {
   "cell_type": "code",
   "execution_count": 71,
   "metadata": {},
   "outputs": [
    {
     "name": "stderr",
     "output_type": "stream",
     "text": [
      "/Users/ramon/opt/anaconda3/envs/networks/lib/python3.9/site-packages/seaborn/_oldcore.py:1498: FutureWarning: is_categorical_dtype is deprecated and will be removed in a future version. Use isinstance(dtype, CategoricalDtype) instead\n",
      "  if pd.api.types.is_categorical_dtype(vector):\n",
      "/Users/ramon/opt/anaconda3/envs/networks/lib/python3.9/site-packages/seaborn/_oldcore.py:1498: FutureWarning: is_categorical_dtype is deprecated and will be removed in a future version. Use isinstance(dtype, CategoricalDtype) instead\n",
      "  if pd.api.types.is_categorical_dtype(vector):\n",
      "/Users/ramon/opt/anaconda3/envs/networks/lib/python3.9/site-packages/seaborn/_oldcore.py:1119: FutureWarning: use_inf_as_na option is deprecated and will be removed in a future version. Convert inf values to NaN before operating instead.\n",
      "  with pd.option_context('mode.use_inf_as_na', True):\n",
      "/Users/ramon/opt/anaconda3/envs/networks/lib/python3.9/site-packages/seaborn/_oldcore.py:1119: FutureWarning: use_inf_as_na option is deprecated and will be removed in a future version. Convert inf values to NaN before operating instead.\n",
      "  with pd.option_context('mode.use_inf_as_na', True):\n"
     ]
    },
    {
     "data": {
      "image/png": "[encoded data removed]",
      "text/plain": [
       "<Figure size 640x480 with 1 Axes>"
      ]
     },
     "metadata": {},
     "output_type": "display_data"
    }
   ],
   "source": [
    "sns.set_style('whitegrid')\n",
    "fig,ax = plt.subplots(1,1)\n",
    "sns.lineplot(E,ax=ax,color='forestgreen',linewidth=3)\n",
    "ax.set_xlim(0,10000)\n",
    "ax.set_ylabel(r'$E$')\n",
    "ax.set_xlabel(r'$t$')\n",
    "\n",
    "\n",
    "ax.set_xticklabels([])\n",
    "ax.set_yticklabels([])\n",
    "sns.despine()\n",
    "plt.tight_layout()\n",
    "plt.show()\n",
    "\n",
    "fig.savefig('detenergy.pdf', format=\"pdf\", bbox_inches=\"tight\")"
   ]
  },
  {
   "cell_type": "code",
   "execution_count": null,
   "metadata": {},
   "outputs": [],
   "source": []
  }
 ],
 "metadata": {
  "kernelspec": {
   "display_name": "networks",
   "language": "python",
   "name": "python3"
  },
  "language_info": {
   "codemirror_mode": {
    "name": "ipython",
    "version": 3
   },
   "file_extension": ".py",
   "mimetype": "text/x-python",
   "name": "python",
   "nbconvert_exporter": "python",
   "pygments_lexer": "ipython3",
   "version": "3.9.18"
  }
 },
 "nbformat": 4,
 "nbformat_minor": 2
}
